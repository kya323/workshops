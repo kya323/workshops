{
 "cells": [
  {
   "cell_type": "markdown",
   "metadata": {},
   "source": [
    "### Liquid Drop Model"
   ]
  },
  {
   "cell_type": "markdown",
   "metadata": {},
   "source": [
    "Define functions for each term in the Liquid Drop Model."
   ]
  },
  {
   "cell_type": "markdown",
   "metadata": {},
   "source": [
    "__Mass of the constituents parts:__\n",
    "\n",
    "$f_0(Z,A) = 1.007825Z + 1.008665(A-Z)$"
   ]
  },
  {
   "cell_type": "code",
   "execution_count": 2,
   "metadata": {},
   "outputs": [],
   "source": [
    "def f0(Z, A):\n",
    "    return 1.007825*Z + 1.008665*(A - Z)"
   ]
  },
  {
   "cell_type": "markdown",
   "metadata": {},
   "source": [
    "__Volume:__\n",
    "\n",
    "$f_1(Z,A) = -0.01691A$"
   ]
  },
  {
   "cell_type": "code",
   "execution_count": 3,
   "metadata": {},
   "outputs": [],
   "source": [
    "def f1(Z, A):\n",
    "    return -0.01691*A"
   ]
  },
  {
   "cell_type": "markdown",
   "metadata": {},
   "source": [
    "__Surface:__\n",
    "\n",
    "$f_2(Z,A) = 0.01911 A^{2/3}$"
   ]
  },
  {
   "cell_type": "code",
   "execution_count": 4,
   "metadata": {},
   "outputs": [],
   "source": [
    "def f2(Z, A):\n",
    "    return 0.01911*A**(2/3.)"
   ]
  },
  {
   "cell_type": "markdown",
   "metadata": {},
   "source": [
    "__Coulomb:__\n",
    "\n",
    "$f_3(Z,A) = 0.000763 Z^2 A^{-1/3}$"
   ]
  },
  {
   "cell_type": "code",
   "execution_count": 5,
   "metadata": {},
   "outputs": [],
   "source": [
    "def f3(Z, A):\n",
    "    return 0.000763*Z**2/A**(1/3.)"
   ]
  },
  {
   "cell_type": "markdown",
   "metadata": {},
   "source": [
    "__Asymmetry:__\n",
    "\n",
    "$f_4(Z,A) = 0.10175 (Z - A/2)^2 /A$"
   ]
  },
  {
   "cell_type": "code",
   "execution_count": 6,
   "metadata": {},
   "outputs": [],
   "source": [
    "def f4(Z, A):\n",
    "    return 0.10175*(Z - A/2.)**2/A"
   ]
  },
  {
   "cell_type": "markdown",
   "metadata": {},
   "source": [
    "__Pairing:__\n",
    "\n",
    "$f_5(Z,A) = 0.012 A^{-1/2} \\begin{pmatrix}-1\\\\0\\\\+1\\end{pmatrix}$"
   ]
  },
  {
   "cell_type": "code",
   "execution_count": 7,
   "metadata": {},
   "outputs": [],
   "source": [
    "def f5(Z, A):\n",
    "    if Z % 2 == 0 and (A - Z) % 2 == 0:\n",
    "        return -0.012*A**(-1/2.)\n",
    "    elif Z % 2 == 1 and (A - Z) % 2 == 1:\n",
    "        return 0.012*A**(-1/2.)\n",
    "    else:\n",
    "        return 0"
   ]
  },
  {
   "cell_type": "markdown",
   "metadata": {},
   "source": [
    "Define function to calculate mass of nucleus in Liquid Drop Model."
   ]
  },
  {
   "cell_type": "code",
   "execution_count": 8,
   "metadata": {},
   "outputs": [],
   "source": [
    "def liquid_drop_mass(Z, A):\n",
    "    return f0(Z, A) + f1(Z, A) + f2(Z, A) + f3(Z, A) + f4(Z, A) + f5(Z, A)"
   ]
  },
  {
   "cell_type": "code",
   "execution_count": 13,
   "metadata": {},
   "outputs": [
    {
     "data": {
      "text/plain": [
       "235.04093535917968"
      ]
     },
     "execution_count": 13,
     "metadata": {},
     "output_type": "execute_result"
    }
   ],
   "source": [
    "liquid_drop_mass(92, 235)"
   ]
  },
  {
   "cell_type": "markdown",
   "metadata": {},
   "source": [
    "Define function to calculate binding energy per nucleon in Liquid Drop Model."
   ]
  },
  {
   "cell_type": "code",
   "execution_count": 14,
   "metadata": {},
   "outputs": [],
   "source": [
    "def liquid_drop_binding_energy(Z, A):\n",
    "    return (f1(Z, A) + f2(Z, A) + f3(Z, A) + f4(Z, A) + f5(Z, A))*931.49410242/A"
   ]
  },
  {
   "cell_type": "code",
   "execution_count": 15,
   "metadata": {},
   "outputs": [
    {
     "data": {
      "text/plain": [
       "6.70614621805953"
      ]
     },
     "execution_count": 15,
     "metadata": {},
     "output_type": "execute_result"
    }
   ],
   "source": [
    "liquid_drop_binding_energy(92, 235)*235 - liquid_drop_binding_energy(92, 236)*236"
   ]
  },
  {
   "cell_type": "code",
   "execution_count": null,
   "metadata": {},
   "outputs": [],
   "source": []
  }
 ],
 "metadata": {
  "kernelspec": {
   "display_name": "Python 3",
   "language": "python",
   "name": "python3"
  },
  "language_info": {
   "codemirror_mode": {
    "name": "ipython",
    "version": 3
   },
   "file_extension": ".py",
   "mimetype": "text/x-python",
   "name": "python",
   "nbconvert_exporter": "python",
   "pygments_lexer": "ipython3",
   "version": "3.8.5"
  }
 },
 "nbformat": 4,
 "nbformat_minor": 4
}
