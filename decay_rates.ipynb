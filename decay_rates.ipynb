{
 "cells": [
  {
   "cell_type": "markdown",
   "metadata": {},
   "source": [
    "## Fission and $\\alpha$-emission decay rates"
   ]
  },
  {
   "cell_type": "markdown",
   "metadata": {},
   "source": [
    "### Functions for basic nucleus properties"
   ]
  },
  {
   "cell_type": "code",
   "execution_count": null,
   "metadata": {},
   "outputs": [],
   "source": [
    "import numpy as np"
   ]
  },
  {
   "cell_type": "markdown",
   "metadata": {},
   "source": [
    "Define function to find radius of spherical nucleus."
   ]
  },
  {
   "cell_type": "code",
   "execution_count": null,
   "metadata": {},
   "outputs": [],
   "source": [
    "def average_radius(Z, A):\n",
    "    return 1.07*A**(1./3) # F"
   ]
  },
  {
   "cell_type": "markdown",
   "metadata": {},
   "source": [
    "__Mass of the constituents parts:__\n",
    "\n",
    "$f_0(Z,A) = 1.007277Z + 1.008665(A-Z)$"
   ]
  },
  {
   "cell_type": "code",
   "execution_count": null,
   "metadata": {},
   "outputs": [],
   "source": [
    "def f0(s, Z, A):\n",
    "    return 1.00727647*Z + 1.00866492*(A - Z), 0."
   ]
  },
  {
   "cell_type": "markdown",
   "metadata": {},
   "source": [
    "__Volume:__\n",
    "\n",
    "$f_1(Z,A) = -0.01691A$"
   ]
  },
  {
   "cell_type": "code",
   "execution_count": null,
   "metadata": {},
   "outputs": [],
   "source": [
    "def f1(s, Z, A):\n",
    "    return -0.01691*A, 0. # u"
   ]
  },
  {
   "cell_type": "markdown",
   "metadata": {},
   "source": [
    "__Surface:__\n",
    "\n",
    "$f_2(Z,A) = 0.01911 A^{2/3}$"
   ]
  },
  {
   "cell_type": "code",
   "execution_count": null,
   "metadata": {},
   "outputs": [],
   "source": [
    "def f2(s, Z, A):\n",
    "    return 0.01911*A**(2/3.), 2./5*0.01911*A**(2./3)*s**2 # u"
   ]
  },
  {
   "cell_type": "markdown",
   "metadata": {},
   "source": [
    "__Coulomb:__\n",
    "\n",
    "$f_3(Z,A) = 0.000763 Z^2 A^{-1/3}$"
   ]
  },
  {
   "cell_type": "code",
   "execution_count": null,
   "metadata": {},
   "outputs": [],
   "source": [
    "def f3(s, Z, A):\n",
    "    return 0.000763*Z**2/A**(1/3.), -1./5*0.000763*Z**2/A**(1./3)*s**2 # u"
   ]
  },
  {
   "cell_type": "markdown",
   "metadata": {},
   "source": [
    "__Asymmetry:__\n",
    "\n",
    "$f_4(Z,A) = 0.10175 (Z - A/2)^2 /A$"
   ]
  },
  {
   "cell_type": "code",
   "execution_count": null,
   "metadata": {},
   "outputs": [],
   "source": [
    "def f4(s, Z, A):\n",
    "    return 0.10175*(Z - A/2.)**2/A, 0. # u"
   ]
  },
  {
   "cell_type": "markdown",
   "metadata": {},
   "source": [
    "__Pairing:__\n",
    "\n",
    "$f_5(Z,A) = 0.012 A^{-1/2} \\begin{pmatrix}-1\\\\0\\\\+1\\end{pmatrix}$"
   ]
  },
  {
   "cell_type": "code",
   "execution_count": null,
   "metadata": {},
   "outputs": [],
   "source": [
    "def f5(s, Z, A):\n",
    "    if Z % 2 == 0 and (A - Z) % 2 == 0:\n",
    "        return -0.012*A**(-1/2.), 0. # u\n",
    "    elif Z % 2 == 1 and (A - Z) % 2 == 1:\n",
    "        return 0.012*A**(-1/2.), 0. # u\n",
    "    else:\n",
    "        return 0., 0. # u"
   ]
  },
  {
   "cell_type": "markdown",
   "metadata": {},
   "source": [
    "Define function to calculate mass of nucleus in Liquid Drop Model."
   ]
  },
  {
   "cell_type": "code",
   "execution_count": null,
   "metadata": {},
   "outputs": [],
   "source": [
    "def liquid_drop_mass(s, Z, A):\n",
    "    return f0(s, Z, A)[0] + f1(s, Z, A)[0] + f2(s, Z, A)[0] + f2(s, Z, A)[1] \\\n",
    "            + f3(s, Z, A)[0] + f3(s, Z, A)[1] + f4(s, Z, A)[0] + f5(s, Z, A)[0]"
   ]
  },
  {
   "cell_type": "markdown",
   "metadata": {},
   "source": [
    "### $\\alpha$-emission decay rates"
   ]
  },
  {
   "cell_type": "markdown",
   "metadata": {},
   "source": [
    "Define function to find kinetic energy of alpha-particle."
   ]
  },
  {
   "cell_type": "code",
   "execution_count": null,
   "metadata": {},
   "outputs": [],
   "source": [
    "u = 931.494103\n",
    "mass_alpha = 4.001506179127\n",
    "\n",
    "def alpha_energy(Z, A):\n",
    "    \n",
    "    # estimate masses of parent and daughter particles using liquid drop model\n",
    "    mass_parent = liquid_drop_mass(0., Z, A)\n",
    "    mass_daughter = liquid_drop_mass(0., Z - 2, A - 4)\n",
    "    \n",
    "    # estimate Q value of reaction\n",
    "    ...\n",
    "    \n",
    "    return Q"
   ]
  },
  {
   "cell_type": "markdown",
   "metadata": {},
   "source": [
    "Define function for shape of potential barrier."
   ]
  },
  {
   "cell_type": "code",
   "execution_count": null,
   "metadata": {},
   "outputs": [],
   "source": [
    "epsilon_0 = 55.26349406e-3 # e^2/MeV/F\n",
    "\n",
    "def alpha_barrier(s, Z, A):\n",
    "    \n",
    "    # estimate radius at which alpha-particle leaves potenital of (new) daughter nucleus\n",
    "    radius = average_radius(Z - 2, A - 4) + average_radius(2, 4)\n",
    "    \n",
    "    # estimate coulomb potential due to repulsion of alpha-particle from daughter nucleus\n",
    "    ...\n",
    "    \n",
    "    # set potential to depth of nuclear potential within interaction radius\n",
    "    potential[s < radius] = -50\n",
    "    \n",
    "    return potential"
   ]
  },
  {
   "cell_type": "code",
   "execution_count": null,
   "metadata": {},
   "outputs": [],
   "source": [
    "s = np.arange(0, 100, 0.01)\n",
    "p = alpha_barrier(s, 92, 235)\n",
    "E = alpha_energy(92, 235)"
   ]
  },
  {
   "cell_type": "code",
   "execution_count": null,
   "metadata": {},
   "outputs": [],
   "source": [
    "from matplotlib import pyplot as plt\n",
    "from matplotlib import rc\n",
    "\n",
    "# set up latex labels on plot (optional)\n",
    "try:\n",
    "    rc('text', usetex=True) # can try usetex=False\n",
    "    rc('font', size=14)\n",
    "    rc('legend', fontsize=14)\n",
    "    rc('font', **{'family': 'serif', 'serif': ['Computer Modern']})\n",
    "except:\n",
    "    pass    \n",
    "\n",
    "# create figure\n",
    "fig, ax = plt.subplots(figsize=(7, 7))\n",
    "\n",
    "# set axis labels and limits\n",
    "ax.set_xlabel(r'$s$ (F)')\n",
    "ax.set_ylabel(r'$V(s)$ (MeV)')\n",
    "\n",
    "#ax.set_xlim([0,20])\n",
    "#ax.set_ylim([-20,10])\n",
    "\n",
    "ax.plot(s, p, 'k')\n",
    "ax.plot(s, E*np.ones_like(s), 'b', linestyle='dashed')\n",
    "\n",
    "plt.show()"
   ]
  },
  {
   "cell_type": "markdown",
   "metadata": {},
   "source": [
    "Define function to determine tunneling probability."
   ]
  },
  {
   "cell_type": "code",
   "execution_count": null,
   "metadata": {},
   "outputs": [],
   "source": [
    "hbar = 6.58211956e-22 # MeV/s\n",
    "\n",
    "def alpha_probability(s, p, A, E):\n",
    "    \n",
    "    ..."
   ]
  },
  {
   "cell_type": "markdown",
   "metadata": {},
   "source": [
    "Define function to estimate the number of trials."
   ]
  },
  {
   "cell_type": "code",
   "execution_count": null,
   "metadata": {},
   "outputs": [],
   "source": [
    "def alpha_trials(Z, A, E):\n",
    "    \n",
    "    # estimate radius at which alpha-particle leaves potenital of (new) daughter nucleus\n",
    "    radius = average_radius(Z - 2, A - 4) + average_radius(2, 4)\n",
    "    \n",
    "    # estimate the number of trials per unit time\n",
    "    N = np.sqrt(2*E/(mass_alpha*u))/(2*radius * 1e-15)\n",
    "    \n",
    "    return N"
   ]
  },
  {
   "cell_type": "markdown",
   "metadata": {},
   "source": [
    "Define function to calculate the decay rate."
   ]
  },
  {
   "cell_type": "code",
   "execution_count": null,
   "metadata": {},
   "outputs": [],
   "source": [
    "def alpha_decay_rate(s, p, Z, A, E):\n",
    "    \n",
    "    return alpha_trials(Z, A, E)*alpha_probability(s, p, A, E)"
   ]
  },
  {
   "cell_type": "code",
   "execution_count": null,
   "metadata": {},
   "outputs": [],
   "source": [
    "rate = alpha_decay_rate(s, p, 92, 235, E)"
   ]
  },
  {
   "cell_type": "markdown",
   "metadata": {},
   "source": [
    "Find the half-life:"
   ]
  },
  {
   "cell_type": "code",
   "execution_count": null,
   "metadata": {},
   "outputs": [],
   "source": []
  },
  {
   "cell_type": "markdown",
   "metadata": {},
   "source": [
    "### Fission decay rates"
   ]
  },
  {
   "cell_type": "markdown",
   "metadata": {},
   "source": [
    "Define function to find change in binding energy as spherical nucleus deforms towards a peanut shape."
   ]
  },
  {
   "cell_type": "code",
   "execution_count": null,
   "metadata": {},
   "outputs": [],
   "source": [
    "u = 931.494103\n",
    "\n",
    "def deformation_energy(s, Z, A):\n",
    "    \n",
    "    # estimate radius of undeformed spherical parent nucleus\n",
    "    radius = average_radius(Z, A)\n",
    "    \n",
    "    # approximate separtion s as change in axial ratio\n",
    "    alpha_2 = s/radius # a/b - 1\n",
    "    \n",
    "    # estimate mass of deformed parent nucleus using liquid drop model\n",
    "    mass = liquid_drop_mass(alpha_2, Z, A)\n",
    "    \n",
    "    return mass * u"
   ]
  },
  {
   "cell_type": "markdown",
   "metadata": {},
   "source": [
    "Define function to find change in binding energy between single and double nuclei."
   ]
  },
  {
   "cell_type": "code",
   "execution_count": null,
   "metadata": {},
   "outputs": [],
   "source": [
    "epsilon_0 = 55.26349406e-3 # e^2/MeV/F\n",
    "\n",
    "def product_energy(s, Z, A):\n",
    "  \n",
    "    # estimate atomic and mass number of two daughter nuclei\n",
    "    Z_1 = int(0.45*Z)\n",
    "    Z_2 = Z - Z_1\n",
    "    A_1 = int(0.45*A)\n",
    "    A_2 = A - A_1\n",
    "    \n",
    "    # estimate mass of two spherical daughter nuclei using liquid drop model\n",
    "    mass_1 = liquid_drop_mass(0., Z_1, A_1)\n",
    "    mass_2 = liquid_drop_mass(0., Z_2, A_2) \n",
    "    \n",
    "    # estimate coulomb potential due to repulsion of two daughter nuclei\n",
    "    radius = average_radius(Z_1, A_1) + average_radius(Z_2, A_2)\n",
    "    potential = Z_1*Z_2/(4*np.pi*epsilon_0*(s + radius)) # Mev\n",
    "\n",
    "    return (mass_1 + mass_2) * u + potential"
   ]
  },
  {
   "cell_type": "markdown",
   "metadata": {},
   "source": [
    "Define function to find the barrier potential function, combining the two limiting cases."
   ]
  },
  {
   "cell_type": "code",
   "execution_count": null,
   "metadata": {},
   "outputs": [],
   "source": [
    "power = 0.5\n",
    "\n",
    "def fission_barrier(s, Z, A):\n",
    "    \n",
    "    # estimate the potential for the deforming parent nucleus\n",
    "    parent = deformation_energy(s, Z, A)\n",
    "    # estimate the potential for the two daughter nuclei\n",
    "    daughter = product_energy(s, Z, A)\n",
    "    \n",
    "    # set equilibrium state potential of parent nucleus to zero energy\n",
    "    parent = parent - deformation_energy(0., Z, A)\n",
    "    daughter = daughter - deformation_energy(0., Z, A)\n",
    "    \n",
    "    # smooth two functions together (not physically based)\n",
    "    potential = np.zeros_like(s)\n",
    "    potential[daughter < 0] = daughter[daughter < 0]\n",
    "    potential[daughter > 0] = 1./(1./parent[daughter > 0]**power + 1./daughter[daughter > 0]**power)**(1./power)\n",
    "    \n",
    "    return potential"
   ]
  },
  {
   "cell_type": "code",
   "execution_count": null,
   "metadata": {},
   "outputs": [],
   "source": [
    "s = np.arange(0, 100, 0.01)\n",
    "p = fission_barrier(s, 92, 235)"
   ]
  },
  {
   "cell_type": "code",
   "execution_count": null,
   "metadata": {},
   "outputs": [],
   "source": [
    "from matplotlib import pyplot as plt\n",
    "from matplotlib import rc\n",
    "\n",
    "# set up latex labels on plot (optional)\n",
    "try:\n",
    "    rc('text', usetex=True) # can try usetex=False\n",
    "    rc('font', size=14)\n",
    "    rc('legend', fontsize=14)\n",
    "    rc('font', **{'family': 'serif', 'serif': ['Computer Modern']})\n",
    "except:\n",
    "    pass    \n",
    "\n",
    "# create figure\n",
    "fig, ax = plt.subplots(figsize=(7, 7))\n",
    "\n",
    "# set axis labels and limits\n",
    "ax.set_xlabel(r'$s$')\n",
    "ax.set_ylabel(r'$\\Delta B$ (MeV)')\n",
    "\n",
    "ax.set_xlim([0,20])\n",
    "ax.set_ylim([-20,10])\n",
    "\n",
    "ax.plot(s, p, 'k')\n",
    "### ax.plot(s, q, 'r')\n",
    "\n",
    "plt.show()"
   ]
  },
  {
   "cell_type": "markdown",
   "metadata": {},
   "source": [
    "Define function for inverted quantum harmonic potential."
   ]
  },
  {
   "cell_type": "code",
   "execution_count": null,
   "metadata": {},
   "outputs": [],
   "source": [
    "def quantum_harmonic(s, p, A, omega):\n",
    "    \n",
    "    # find peak of fission barrier\n",
    "    peak = np.max(p)\n",
    "    s_peak = s[p == peak][0]\n",
    "    \n",
    "    return 0.5 * (A*1.66054e-27*omega**2) * (s*1e-15)**2 / 1.60218e-13"
   ]
  },
  {
   "cell_type": "code",
   "execution_count": null,
   "metadata": {},
   "outputs": [],
   "source": [
    "q = quantum_harmonic(s, p, 235, 1e20)"
   ]
  },
  {
   "cell_type": "markdown",
   "metadata": {},
   "source": [
    "Estimate the half-life to fission decay."
   ]
  },
  {
   "cell_type": "code",
   "execution_count": null,
   "metadata": {},
   "outputs": [],
   "source": [
    "omega = ...\n",
    "halflife = 2*np.pi*np.log(2)*np.exp(2*np.pi*E*1.60218e-13/(1.054571817e-34*omega))"
   ]
  },
  {
   "cell_type": "code",
   "execution_count": null,
   "metadata": {},
   "outputs": [],
   "source": [
    "halflife"
   ]
  },
  {
   "cell_type": "code",
   "execution_count": null,
   "metadata": {},
   "outputs": [],
   "source": []
  }
 ],
 "metadata": {
  "kernelspec": {
   "display_name": "Python 3",
   "language": "python",
   "name": "python3"
  },
  "language_info": {
   "codemirror_mode": {
    "name": "ipython",
    "version": 3
   },
   "file_extension": ".py",
   "mimetype": "text/x-python",
   "name": "python",
   "nbconvert_exporter": "python",
   "pygments_lexer": "ipython3",
   "version": "3.8.5"
  }
 },
 "nbformat": 4,
 "nbformat_minor": 4
}
